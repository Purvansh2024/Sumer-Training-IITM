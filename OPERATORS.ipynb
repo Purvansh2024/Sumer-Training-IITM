{
 "cells": [
  {
   "cell_type": "code",
   "execution_count": 1,
   "id": "de0e7ea6-b4d5-4930-9a0e-767b6d7d236d",
   "metadata": {},
   "outputs": [],
   "source": [
    "#datatype(basic)"
   ]
  },
  {
   "cell_type": "code",
   "execution_count": 1,
   "id": "dd9dace6-8020-4ac9-bf7a-e9a044ea4a7e",
   "metadata": {},
   "outputs": [
    {
     "name": "stdout",
     "output_type": "stream",
     "text": [
      "<class 'int'>\n"
     ]
    }
   ],
   "source": [
    "a=5\n",
    "print(type(a))"
   ]
  },
  {
   "cell_type": "code",
   "execution_count": 2,
   "id": "2dd2679f-ba11-4aa7-9c8c-4a8ff1d4f174",
   "metadata": {},
   "outputs": [
    {
     "name": "stdout",
     "output_type": "stream",
     "text": [
      "<class 'float'>\n"
     ]
    }
   ],
   "source": [
    "a=4.6\n",
    "print(type(a))"
   ]
  },
  {
   "cell_type": "code",
   "execution_count": 3,
   "id": "3ac1f3a4-e32b-45a1-a5cd-976b1b225f03",
   "metadata": {},
   "outputs": [
    {
     "name": "stdout",
     "output_type": "stream",
     "text": [
      "<class 'bool'>\n"
     ]
    }
   ],
   "source": [
    "a=True\n",
    "print(type(a))"
   ]
  },
  {
   "cell_type": "code",
   "execution_count": 4,
   "id": "dfa671fd-c503-4da9-8af0-aefe12b88948",
   "metadata": {},
   "outputs": [
    {
     "name": "stdout",
     "output_type": "stream",
     "text": [
      "<class 'str'>\n"
     ]
    }
   ],
   "source": [
    "a=5\n",
    "print(type(str(a)))"
   ]
  },
  {
   "cell_type": "code",
   "execution_count": 5,
   "id": "c9f64ec0-32c6-40fb-b79f-a1f4a333bc8a",
   "metadata": {},
   "outputs": [
    {
     "name": "stdout",
     "output_type": "stream",
     "text": [
      "<class 'str'>\n"
     ]
    }
   ],
   "source": [
    "a=4\n",
    "b=str(a)\n",
    "print(type(b))"
   ]
  },
  {
   "cell_type": "code",
   "execution_count": null,
   "id": "a64c2eaf-04a2-4e07-b94b-6485a6628127",
   "metadata": {},
   "outputs": [],
   "source": [
    "#arthematic operators"
   ]
  },
  {
   "cell_type": "code",
   "execution_count": null,
   "id": "f1649f9f-2e9c-43e6-a98d-ffbe5c364e68",
   "metadata": {},
   "outputs": [],
   "source": [
    "+,-,*,/,%,//,**"
   ]
  },
  {
   "cell_type": "code",
   "execution_count": 7,
   "id": "6f107df1-17a3-4bed-9fc8-d39a3c36299e",
   "metadata": {},
   "outputs": [
    {
     "name": "stdout",
     "output_type": "stream",
     "text": [
      "10\n"
     ]
    }
   ],
   "source": [
    "a=4\n",
    "b=6\n",
    "print(a+b)"
   ]
  },
  {
   "cell_type": "code",
   "execution_count": 8,
   "id": "01f40eaa-e14d-4c3d-ac72-330292f81138",
   "metadata": {},
   "outputs": [
    {
     "name": "stdin",
     "output_type": "stream",
     "text": [
      "enter the no. 5\n",
      "enter the no. 7\n"
     ]
    },
    {
     "name": "stdout",
     "output_type": "stream",
     "text": [
      "-2\n"
     ]
    }
   ],
   "source": [
    "a=int(input(\"enter the no.\"))\n",
    "b=int(input(\"enter the no.\"))\n",
    "print(a-b)"
   ]
  },
  {
   "cell_type": "code",
   "execution_count": 9,
   "id": "6c52c10e-9339-48c7-bf17-148b0d19d2fe",
   "metadata": {},
   "outputs": [
    {
     "name": "stdout",
     "output_type": "stream",
     "text": [
      "8\n"
     ]
    }
   ],
   "source": [
    "a=2\n",
    "b=4\n",
    "print(a*b)"
   ]
  },
  {
   "cell_type": "code",
   "execution_count": 10,
   "id": "e18c7891-12ac-4cec-b835-27f50d70ceae",
   "metadata": {},
   "outputs": [
    {
     "name": "stdout",
     "output_type": "stream",
     "text": [
      "2.0\n"
     ]
    }
   ],
   "source": [
    "a=4\n",
    "b=2\n",
    "print(a/b)"
   ]
  },
  {
   "cell_type": "code",
   "execution_count": 11,
   "id": "aa51d7a2-77f8-4ce9-9252-b8a2bc06b5e3",
   "metadata": {},
   "outputs": [
    {
     "name": "stdout",
     "output_type": "stream",
     "text": [
      "2\n"
     ]
    }
   ],
   "source": [
    "a=5\n",
    "b=3\n",
    "print(a%b)"
   ]
  },
  {
   "cell_type": "code",
   "execution_count": 12,
   "id": "232b18d6-6bc9-49b5-a8e3-68375316e47b",
   "metadata": {},
   "outputs": [
    {
     "name": "stdout",
     "output_type": "stream",
     "text": [
      "1\n"
     ]
    }
   ],
   "source": [
    "a=9\n",
    "b=5\n",
    "print(a//b)"
   ]
  },
  {
   "cell_type": "code",
   "execution_count": 13,
   "id": "01004554-cb16-44b4-a69e-4ee244bffb91",
   "metadata": {},
   "outputs": [
    {
     "name": "stdout",
     "output_type": "stream",
     "text": [
      "1024\n"
     ]
    }
   ],
   "source": [
    "a=4\n",
    "b=5\n",
    "print(a**b)"
   ]
  },
  {
   "cell_type": "code",
   "execution_count": null,
   "id": "9663fce9-b1d3-49e4-83fb-e252d823c8da",
   "metadata": {},
   "outputs": [],
   "source": [
    "#comparsion operator"
   ]
  },
  {
   "cell_type": "code",
   "execution_count": null,
   "id": "5edee187-8f3e-409e-a2b5-817b3db68bd5",
   "metadata": {},
   "outputs": [],
   "source": [
    "<,>,<=,>=,==,!="
   ]
  },
  {
   "cell_type": "code",
   "execution_count": 14,
   "id": "c4c73f69-801f-4f5b-aaf0-fe0174beacde",
   "metadata": {},
   "outputs": [
    {
     "name": "stdout",
     "output_type": "stream",
     "text": [
      "True\n"
     ]
    }
   ],
   "source": [
    "a=5\n",
    "b=6\n",
    "print(a<b)"
   ]
  },
  {
   "cell_type": "code",
   "execution_count": 15,
   "id": "25771b90-a844-4e39-adfa-a61d0974893f",
   "metadata": {},
   "outputs": [
    {
     "name": "stdout",
     "output_type": "stream",
     "text": [
      "False\n"
     ]
    }
   ],
   "source": [
    "a=8\n",
    "b=9\n",
    "print(a>b)"
   ]
  },
  {
   "cell_type": "code",
   "execution_count": 16,
   "id": "63569850-3d1d-422a-a0be-72e4748a0892",
   "metadata": {},
   "outputs": [
    {
     "name": "stdout",
     "output_type": "stream",
     "text": [
      "True\n"
     ]
    }
   ],
   "source": [
    "a=4\n",
    "b=3\n",
    "print(a>=b)"
   ]
  },
  {
   "cell_type": "code",
   "execution_count": 17,
   "id": "4c2f9b15-879e-4a9a-bd75-7f58b8f05b37",
   "metadata": {},
   "outputs": [
    {
     "name": "stdout",
     "output_type": "stream",
     "text": [
      "False\n"
     ]
    }
   ],
   "source": [
    "a=6\n",
    "b=4\n",
    "print(a<=b)"
   ]
  },
  {
   "cell_type": "code",
   "execution_count": 18,
   "id": "7fafdb8c-7fae-40b6-a058-63b72ec0da84",
   "metadata": {},
   "outputs": [
    {
     "name": "stdout",
     "output_type": "stream",
     "text": [
      "True\n"
     ]
    }
   ],
   "source": [
    "a=6\n",
    "b=6\n",
    "print(a==b)"
   ]
  },
  {
   "cell_type": "code",
   "execution_count": 19,
   "id": "e0c3fac3-a41b-43ef-aa14-a9f827519b87",
   "metadata": {},
   "outputs": [
    {
     "name": "stdout",
     "output_type": "stream",
     "text": [
      "True\n"
     ]
    }
   ],
   "source": [
    "a=7\n",
    "b=4\n",
    "print(a!=b)"
   ]
  },
  {
   "cell_type": "code",
   "execution_count": null,
   "id": "d45aa748-1a05-4bc9-8cbc-0b824307ed2a",
   "metadata": {},
   "outputs": [],
   "source": [
    "#logical operators"
   ]
  },
  {
   "cell_type": "code",
   "execution_count": null,
   "id": "d39a7ee0-32ef-49ce-ba46-59490a68be17",
   "metadata": {},
   "outputs": [],
   "source": [
    "and,or,not"
   ]
  },
  {
   "cell_type": "code",
   "execution_count": 1,
   "id": "026990fb-8665-44c2-b16e-e14c8c74ba2f",
   "metadata": {},
   "outputs": [
    {
     "name": "stdout",
     "output_type": "stream",
     "text": [
      "False\n"
     ]
    }
   ],
   "source": [
    "a=5\n",
    "b=8\n",
    "print(a>b and a==b)"
   ]
  },
  {
   "cell_type": "code",
   "execution_count": 2,
   "id": "bd058f90-5e0c-4bc8-9a01-1167372e8ac5",
   "metadata": {},
   "outputs": [
    {
     "name": "stdout",
     "output_type": "stream",
     "text": [
      "False\n"
     ]
    }
   ],
   "source": [
    "a=3\n",
    "b=6\n",
    "print(a<b and a==b)"
   ]
  },
  {
   "cell_type": "code",
   "execution_count": 3,
   "id": "c4c17758-ccfb-481c-90e8-80cb8f66bc84",
   "metadata": {},
   "outputs": [
    {
     "name": "stdout",
     "output_type": "stream",
     "text": [
      "False\n"
     ]
    }
   ],
   "source": [
    "a=7\n",
    "b=4\n",
    "print(not (a>b))"
   ]
  },
  {
   "cell_type": "code",
   "execution_count": null,
   "id": "f76bfd99-f9b6-4993-8670-e08b5cbe064a",
   "metadata": {},
   "outputs": [],
   "source": [
    "#membership operator"
   ]
  },
  {
   "cell_type": "code",
   "execution_count": null,
   "id": "33bf90f9-692b-48eb-ae35-edbf4858c227",
   "metadata": {},
   "outputs": [],
   "source": [
    "in,not in"
   ]
  },
  {
   "cell_type": "code",
   "execution_count": 4,
   "id": "b740833b-e661-4c12-a365-068648be8af3",
   "metadata": {},
   "outputs": [
    {
     "name": "stdout",
     "output_type": "stream",
     "text": [
      "2\n",
      "3\n",
      "4\n",
      "5\n"
     ]
    }
   ],
   "source": [
    "a=[2,3,4,5]\n",
    "for x in a:\n",
    "    print(x)"
   ]
  },
  {
   "cell_type": "code",
   "execution_count": 5,
   "id": "55881560-083d-48c7-b554-f76805371e69",
   "metadata": {},
   "outputs": [
    {
     "name": "stdout",
     "output_type": "stream",
     "text": [
      "True\n"
     ]
    }
   ],
   "source": [
    "a=\"python is imp\"\n",
    "print(\"is\" in a)"
   ]
  },
  {
   "cell_type": "code",
   "execution_count": 6,
   "id": "5a50a058-d283-4958-9288-898b4567d4af",
   "metadata": {},
   "outputs": [
    {
     "name": "stdout",
     "output_type": "stream",
     "text": [
      "False\n"
     ]
    }
   ],
   "source": [
    "a=\"python is imp\"\n",
    "print(\"is\" not in a)"
   ]
  },
  {
   "cell_type": "code",
   "execution_count": null,
   "id": "3b13a467-9767-42a5-8c9e-19a49295166f",
   "metadata": {},
   "outputs": [],
   "source": [
    "#identity operator"
   ]
  },
  {
   "cell_type": "code",
   "execution_count": null,
   "id": "9af1420f-146f-421e-b3b3-2b601ba6d64e",
   "metadata": {},
   "outputs": [],
   "source": [
    "is,is not"
   ]
  },
  {
   "cell_type": "code",
   "execution_count": 7,
   "id": "807faf5c-8622-4a2b-8d39-c441e17a09aa",
   "metadata": {},
   "outputs": [
    {
     "name": "stdout",
     "output_type": "stream",
     "text": [
      "True\n"
     ]
    }
   ],
   "source": [
    "a=4\n",
    "b=4\n",
    "print(a is b)"
   ]
  },
  {
   "cell_type": "code",
   "execution_count": 8,
   "id": "0d9ed0bb-d603-46ce-acdb-9a3ced3a7fb0",
   "metadata": {},
   "outputs": [
    {
     "name": "stdout",
     "output_type": "stream",
     "text": [
      "False\n"
     ]
    }
   ],
   "source": [
    "a=5\n",
    "b=5\n",
    "print(a is not b)"
   ]
  },
  {
   "cell_type": "code",
   "execution_count": null,
   "id": "c0ac717f-dff4-44e7-8d17-8b28ab42cec3",
   "metadata": {},
   "outputs": [],
   "source": [
    "#bitwise operator"
   ]
  },
  {
   "cell_type": "code",
   "execution_count": null,
   "id": "8a8ad89d-4aa4-40e2-af43-3e8a2a3eed96",
   "metadata": {},
   "outputs": [],
   "source": [
    "and&,or||,not~"
   ]
  },
  {
   "cell_type": "code",
   "execution_count": null,
   "id": "518721e7-4d4a-4018-97a5-0788591e5c60",
   "metadata": {},
   "outputs": [],
   "source": []
  }
 ],
 "metadata": {
  "kernelspec": {
   "display_name": "Python [conda env:base] *",
   "language": "python",
   "name": "conda-base-py"
  },
  "language_info": {
   "codemirror_mode": {
    "name": "ipython",
    "version": 3
   },
   "file_extension": ".py",
   "mimetype": "text/x-python",
   "name": "python",
   "nbconvert_exporter": "python",
   "pygments_lexer": "ipython3",
   "version": "3.13.5"
  }
 },
 "nbformat": 4,
 "nbformat_minor": 5
}
