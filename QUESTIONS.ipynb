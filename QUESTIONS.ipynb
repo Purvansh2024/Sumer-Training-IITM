{
 "cells": [
  {
   "cell_type": "code",
   "execution_count": 9,
   "id": "bb6910a5-3140-40fb-bd95-e2bcb1735282",
   "metadata": {},
   "outputs": [
    {
     "name": "stdin",
     "output_type": "stream",
     "text": [
      "enter password: 2023\n"
     ]
    },
    {
     "name": "stdout",
     "output_type": "stream",
     "text": [
      "wrong password! 7 attempts left.\n"
     ]
    },
    {
     "name": "stdin",
     "output_type": "stream",
     "text": [
      "enter password: 4566\n"
     ]
    },
    {
     "name": "stdout",
     "output_type": "stream",
     "text": [
      "wrong password! 6 attempts left.\n"
     ]
    },
    {
     "name": "stdin",
     "output_type": "stream",
     "text": [
      "enter password: 6789\n"
     ]
    },
    {
     "name": "stdout",
     "output_type": "stream",
     "text": [
      "wrong password! 5 attempts left.\n"
     ]
    },
    {
     "name": "stdin",
     "output_type": "stream",
     "text": [
      "enter password: 2024\n"
     ]
    },
    {
     "name": "stdout",
     "output_type": "stream",
     "text": [
      "access granted\n"
     ]
    }
   ],
   "source": [
    "password=\"2024\"\n",
    "attempts=8\n",
    "while attempts>0:\n",
    "    user_input=input(\"enter password:\")\n",
    "    if user_input==password:\n",
    "        print(\"access granted\")\n",
    "        break\n",
    "    else:\n",
    "        attempts-=1\n",
    "        print(f\"wrong password! {attempts} attempts left.\")"
   ]
  },
  {
   "cell_type": "code",
   "execution_count": 10,
   "id": "5cedb75a-e03e-43b4-8119-38e290347b25",
   "metadata": {},
   "outputs": [
    {
     "name": "stdin",
     "output_type": "stream",
     "text": [
      "Enter any positive integer:  34\n"
     ]
    },
    {
     "name": "stdout",
     "output_type": "stream",
     "text": [
      "Given number 34 is NOT divisible by both 3 and 7.\n"
     ]
    }
   ],
   "source": [
    "number = int(input(\"Enter any positive integer: \"))\n",
    "if number % 3 == 0 and number % 7 == 0:\n",
    "    print(f\"Given number {number} is divisible by both 3 and 7.\")\n",
    "else:\n",
    "    print(f\"Given number {number} is NOT divisible by both 3 and 7.\")"
   ]
  },
  {
   "cell_type": "code",
   "execution_count": 12,
   "id": "9ef7f20d-b610-4517-8680-ed1455ba5346",
   "metadata": {},
   "outputs": [
    {
     "name": "stdin",
     "output_type": "stream",
     "text": [
      "enter the no. 56\n"
     ]
    },
    {
     "name": "stdout",
     "output_type": "stream",
     "text": [
      "2\n",
      "4\n",
      "6\n",
      "8\n",
      "10\n",
      "12\n",
      "14\n",
      "16\n",
      "18\n",
      "20\n",
      "22\n",
      "24\n",
      "26\n",
      "28\n",
      "30\n",
      "32\n",
      "34\n",
      "36\n",
      "38\n",
      "40\n",
      "42\n",
      "44\n",
      "46\n",
      "48\n",
      "50\n",
      "52\n",
      "54\n",
      "56\n",
      "58\n",
      "60\n",
      "62\n",
      "64\n",
      "66\n",
      "68\n",
      "70\n",
      "72\n",
      "74\n",
      "76\n",
      "78\n",
      "80\n",
      "82\n",
      "84\n",
      "86\n",
      "88\n",
      "90\n",
      "92\n",
      "94\n",
      "96\n",
      "98\n",
      "100\n"
     ]
    }
   ],
   "source": [
    "num=int(input(\"enter the no.\"))\n",
    "for i in range(1, 101):\n",
    "    if i % 2 == 0: \n",
    "        print(i)"
   ]
  },
  {
   "cell_type": "code",
   "execution_count": 13,
   "id": "6c1d7672-7cfa-4b5b-9407-62b432a6f9b4",
   "metadata": {},
   "outputs": [
    {
     "name": "stdout",
     "output_type": "stream",
     "text": [
      "2\n",
      "4\n",
      "6\n",
      "8\n",
      "10\n",
      "12\n",
      "14\n",
      "16\n",
      "18\n",
      "20\n",
      "22\n",
      "24\n",
      "26\n",
      "28\n",
      "30\n",
      "32\n",
      "34\n",
      "36\n",
      "38\n",
      "40\n",
      "42\n",
      "44\n",
      "46\n",
      "48\n",
      "50\n",
      "52\n",
      "54\n",
      "56\n",
      "58\n",
      "60\n",
      "62\n",
      "64\n",
      "66\n",
      "68\n",
      "70\n",
      "72\n",
      "74\n",
      "76\n",
      "78\n",
      "80\n",
      "82\n",
      "84\n",
      "86\n",
      "88\n",
      "90\n",
      "92\n",
      "94\n",
      "96\n",
      "98\n",
      "100\n"
     ]
    }
   ],
   "source": [
    "for i in range(1, 101):\n",
    "    if i % 2 == 0: \n",
    "        print(i)"
   ]
  },
  {
   "cell_type": "code",
   "execution_count": 16,
   "id": "0de730e4-d59a-4b11-92f6-8566036891f2",
   "metadata": {},
   "outputs": [
    {
     "name": "stdin",
     "output_type": "stream",
     "text": [
      "Enter the first number:  3\n",
      "Enter the second number:  4\n",
      "Enter the third number:  5\n"
     ]
    },
    {
     "name": "stdout",
     "output_type": "stream",
     "text": [
      "num3 is greater\n"
     ]
    }
   ],
   "source": [
    "num1=int(input(\"Enter the first number: \"))\n",
    "num2=int(input(\"Enter the second number: \"))\n",
    "num3=int(input(\"Enter the third number: \"))\n",
    "if num1>=num2:\n",
    "    print(\"num2 is greater\")\n",
    "elif num2>num3:\n",
    "    print(\"num2 is greater\")\n",
    "else:\n",
    "    print(\"num3 is greater\")"
   ]
  },
  {
   "cell_type": "code",
   "execution_count": null,
   "id": "8d4d4b14-0504-4078-bce4-b1d98ed644a9",
   "metadata": {},
   "outputs": [],
   "source": [
    "i=50\n",
    "while i>0"
   ]
  },
  {
   "cell_type": "code",
   "execution_count": null,
   "id": "1898d92b-de10-4020-94f4-3c7691965b61",
   "metadata": {},
   "outputs": [],
   "source": [
    "num=int(input(\"enter a number:\"))\n",
    "i=1\n",
    "while i<=10:\n",
    "    print(f\"{num}x{i}={num*i}\")\n",
    "    i+=1"
   ]
  },
  {
   "cell_type": "code",
   "execution_count": null,
   "id": "b2b0de6a-1f36-422d-acb9-65258a00bbcd",
   "metadata": {},
   "outputs": [],
   "source": [
    "year=int(input(\"enter a year:\"))\n",
    "if (year%4==0):\n",
    "    print(f\"{year} is a leap year.\")\n",
    "else:\n",
    "    print(f\"{year}is not a leap year\")"
   ]
  },
  {
   "cell_type": "code",
   "execution_count": 2,
   "id": "b7e93d39-df94-4b91-a19b-3c8526979ae9",
   "metadata": {},
   "outputs": [
    {
     "name": "stdin",
     "output_type": "stream",
     "text": [
      "enter a number: 5\n"
     ]
    },
    {
     "name": "stdout",
     "output_type": "stream",
     "text": [
      "factoruial is  1\n",
      "factoruial is  2\n",
      "factoruial is  6\n",
      "factoruial is  24\n",
      "factoruial is  120\n"
     ]
    }
   ],
   "source": [
    "num=int(input(\"enter a number:\"))\n",
    "fact=1\n",
    "for i in range(1,num+1):\n",
    "    fact=fact*i\n",
    "    print(\"factoruial is \",fact)"
   ]
  },
  {
   "cell_type": "code",
   "execution_count": 3,
   "id": "338d2252-200e-4418-9114-d4da549a9731",
   "metadata": {},
   "outputs": [
    {
     "name": "stdin",
     "output_type": "stream",
     "text": [
      "enter a number: 6\n"
     ]
    },
    {
     "name": "stdout",
     "output_type": "stream",
     "text": [
      "the number is positive.\n"
     ]
    }
   ],
   "source": [
    "num=int(input(\"enter a number:\"))\n",
    "if num>0:\n",
    "    print(\"the number is positive.\")\n",
    "elif num<0:\n",
    "    print(\"the number is negative.\")\n",
    "else:\n",
    "    print(\"the number is zero.\")"
   ]
  },
  {
   "cell_type": "code",
   "execution_count": 4,
   "id": "a5217c33-10a1-466c-a0fa-40c1ec590716",
   "metadata": {},
   "outputs": [
    {
     "name": "stdin",
     "output_type": "stream",
     "text": [
      "Enter a number:  5\n"
     ]
    },
    {
     "name": "stdout",
     "output_type": "stream",
     "text": [
      "5 does not meet the criteria.\n"
     ]
    }
   ],
   "source": [
    "num = int(input(\"Enter a number: \"))\n",
    "if num % 2 == 0 and num > 10:\n",
    "    print(f\"{num} is even and greater than 10.\")\n",
    "else:\n",
    "    print(f\"{num} does not meet the criteria.\")"
   ]
  },
  {
   "cell_type": "code",
   "execution_count": 5,
   "id": "ac876775-ff50-4cff-9332-76c2b0acd99f",
   "metadata": {},
   "outputs": [
    {
     "name": "stdout",
     "output_type": "stream",
     "text": [
      "1\n",
      "2\n",
      "4\n",
      "5\n",
      "7\n",
      "8\n",
      "10\n",
      "11\n",
      "13\n",
      "14\n",
      "16\n",
      "17\n",
      "19\n",
      "20\n",
      "22\n",
      "23\n",
      "25\n",
      "26\n",
      "28\n",
      "29\n",
      "31\n",
      "32\n",
      "34\n",
      "35\n",
      "37\n",
      "38\n",
      "40\n",
      "41\n",
      "43\n",
      "44\n",
      "46\n",
      "47\n",
      "49\n",
      "50\n"
     ]
    }
   ],
   "source": [
    "for num in range(1, 51):\n",
    "    if num % 3 != 0:\n",
    "        print(num)"
   ]
  },
  {
   "cell_type": "code",
   "execution_count": 6,
   "id": "18427a4b-2740-4196-9205-ef2a97175725",
   "metadata": {},
   "outputs": [
    {
     "name": "stdin",
     "output_type": "stream",
     "text": [
      "Enter a number:  4\n"
     ]
    },
    {
     "name": "stdout",
     "output_type": "stream",
     "text": [
      "The number of digits is: 1\n"
     ]
    }
   ],
   "source": [
    "num = int(input(\"Enter a number: \"))\n",
    "num = abs(num)\n",
    "digit_count = 0\n",
    "while num > 0:\n",
    "    num //= 10\n",
    "    digit_count += 1\n",
    "if digit_count == 0:\n",
    "    digit_count = 1\n",
    "print(f\"The number of digits is: {digit_count}\")"
   ]
  },
  {
   "cell_type": "code",
   "execution_count": 7,
   "id": "9c035bcc-75a7-4dc3-a53f-8ae9fa64d8c3",
   "metadata": {},
   "outputs": [
    {
     "name": "stdin",
     "output_type": "stream",
     "text": [
      "Enter a number:  3\n"
     ]
    },
    {
     "name": "stdout",
     "output_type": "stream",
     "text": [
      "Reversed Number: 3\n"
     ]
    }
   ],
   "source": [
    "num = int(input(\"Enter a number: \"))\n",
    "num = int(input(\"Enter a number: \"))\n",
    "\n",
    "# Initialize a variable to store the reversed number\n",
    "reversed_num = 0\n",
    "\n",
    "# Use a while loop to reverse the number\n",
    "while num != 0:\n",
    "    # Get the last digit of the number\n",
    "    digit = num % 10\n",
    "    # Add the digit to the reversed number\n",
    "    reversed_num = reversed_num * 10 + digit\n",
    "    # Remove the last digit from the number\n",
    "    num //= 10\n",
    "\n",
    "# Output: Print the reversed number\n",
    "print(f\"Reversed Number: {reversed_num}\")alize a variable to store the reversed number\n",
    "reversed_num = 0\n",
    "while num != 0:\n",
    "    digit = num % 10\n",
    "    reversed_num = reversed_num * 10 + digit\n",
    "    num //= 10\n",
    "print(f\"Reversed Number: {reversed_num}\")"
   ]
  },
  {
   "cell_type": "code",
   "execution_count": 8,
   "id": "5d1a2868-ff06-4d30-bba6-851acab3cf74",
   "metadata": {},
   "outputs": [
    {
     "name": "stdin",
     "output_type": "stream",
     "text": [
      "Enter number 1:  3\n"
     ]
    },
    {
     "ename": "NameError",
     "evalue": "name 'total_sum' is not defined",
     "output_type": "error",
     "traceback": [
      "\u001b[1;31m---------------------------------------------------------------------------\u001b[0m",
      "\u001b[1;31mNameError\u001b[0m                                 Traceback (most recent call last)",
      "Cell \u001b[1;32mIn[8], line 3\u001b[0m\n\u001b[0;32m      1\u001b[0m \u001b[38;5;28;01mfor\u001b[39;00m i \u001b[38;5;129;01min\u001b[39;00m \u001b[38;5;28mrange\u001b[39m(\u001b[38;5;241m1\u001b[39m, \u001b[38;5;241m6\u001b[39m):\n\u001b[0;32m      2\u001b[0m     number \u001b[38;5;241m=\u001b[39m \u001b[38;5;28mfloat\u001b[39m(\u001b[38;5;28minput\u001b[39m(\u001b[38;5;124mf\u001b[39m\u001b[38;5;124m\"\u001b[39m\u001b[38;5;124mEnter number \u001b[39m\u001b[38;5;132;01m{\u001b[39;00mi\u001b[38;5;132;01m}\u001b[39;00m\u001b[38;5;124m: \u001b[39m\u001b[38;5;124m\"\u001b[39m))\n\u001b[1;32m----> 3\u001b[0m     total_sum \u001b[38;5;241m+\u001b[39m\u001b[38;5;241m=\u001b[39m number\n\u001b[0;32m      4\u001b[0m average \u001b[38;5;241m=\u001b[39m total_sum \u001b[38;5;241m/\u001b[39m \u001b[38;5;241m5\u001b[39m\n\u001b[0;32m      5\u001b[0m \u001b[38;5;28mprint\u001b[39m(\u001b[38;5;124mf\u001b[39m\u001b[38;5;124m\"\u001b[39m\u001b[38;5;124mSum of the numbers: \u001b[39m\u001b[38;5;132;01m{\u001b[39;00mtotal_sum\u001b[38;5;132;01m}\u001b[39;00m\u001b[38;5;124m\"\u001b[39m)\n",
      "\u001b[1;31mNameError\u001b[0m: name 'total_sum' is not defined"
     ]
    }
   ],
   "source": [
    "for i in range(1, 6):\n",
    "    number = float(input(f\"Enter number {i}: \"))\n",
    "    total_sum += number\n",
    "average = total_sum / 5\n",
    "print(f\"Sum of the numbers: {total_sum}\")\n",
    "print(f\"Average of the numbers: {average}\")"
   ]
  },
  {
   "cell_type": "code",
   "execution_count": 10,
   "id": "bce37141-78b4-4ec6-8f8a-0774575df684",
   "metadata": {},
   "outputs": [
    {
     "name": "stdin",
     "output_type": "stream",
     "text": [
      "Enter a character:  gt\n"
     ]
    },
    {
     "name": "stdout",
     "output_type": "stream",
     "text": [
      "Invalid input! Please enter a single character.\n"
     ]
    }
   ],
   "source": [
    "def check_character(ch):\n",
    "    ch = ch.lower()\n",
    "    if ch in 'aeiou':\n",
    "        return f\"{ch.upper()} is a vowel.\"\n",
    "    elif ch.isalpha():\n",
    "        return f\"{ch.upper()} is a consonant.\"\n",
    "    else:\n",
    "        return \"Invalid input! Please enter a single alphabetic character.\"\n",
    "char = input(\"Enter a character: \")\n",
    "\n",
    "# Ensure the input is a single character\n",
    "if len(char) == 1:\n",
    "    print(check_character(char))\n",
    "else:\n",
    "    print(\"Invalid input! Please enter a single character.\")"
   ]
  },
  {
   "cell_type": "code",
   "execution_count": 9,
   "id": "2d80110d-b8e6-4396-ae99-85d9183b5528",
   "metadata": {},
   "outputs": [
    {
     "name": "stdin",
     "output_type": "stream",
     "text": [
      "Enter the first number:  5\n",
      "Enter the second number:  6\n"
     ]
    },
    {
     "name": "stdout",
     "output_type": "stream",
     "text": [
      "Before swapping: a = 5.0, b = 6.0\n",
      "After swapping: a = 6.0, b = 5.0\n"
     ]
    }
   ],
   "source": [
    "a = float(input(\"Enter the first number: \"))\n",
    "b = float(input(\"Enter the second number: \"))\n",
    "print(f\"Before swapping: a = {a}, b = {b}\")\n",
    "a, b = b, a\n",
    "print(f\"After swapping: a = {a}, b = {b}\")"
   ]
  },
  {
   "cell_type": "code",
   "execution_count": 2,
   "id": "6ac75ec1-aa36-4b41-90ef-8a6c2006edc2",
   "metadata": {},
   "outputs": [
    {
     "name": "stdout",
     "output_type": "stream",
     "text": [
      "8\n"
     ]
    }
   ],
   "source": [
    "a=3\n",
    "b=5\n",
    "def sum():\n",
    "    print(a+b)\n",
    "sum()"
   ]
  },
  {
   "cell_type": "code",
   "execution_count": 3,
   "id": "a0ce7c65-6ad8-49d2-bf1d-479e5740b272",
   "metadata": {},
   "outputs": [
    {
     "name": "stdout",
     "output_type": "stream",
     "text": [
      "9\n"
     ]
    }
   ],
   "source": [
    "def sum(a,b):\n",
    "    print(a+b)\n",
    "sum(4,5)"
   ]
  },
  {
   "cell_type": "code",
   "execution_count": 4,
   "id": "b454f0e4-c722-4d87-b651-3988d7822fb4",
   "metadata": {},
   "outputs": [],
   "source": [
    "#required arguments"
   ]
  },
  {
   "cell_type": "code",
   "execution_count": 6,
   "id": "cc837d1a-2b6d-4126-ad13-b4fe82cd7e74",
   "metadata": {},
   "outputs": [
    {
     "name": "stdout",
     "output_type": "stream",
     "text": [
      "40\n"
     ]
    },
    {
     "ename": "TypeError",
     "evalue": "add() missing 1 required positional argument: 'b'",
     "output_type": "error",
     "traceback": [
      "\u001b[1;31m---------------------------------------------------------------------------\u001b[0m",
      "\u001b[1;31mTypeError\u001b[0m                                 Traceback (most recent call last)",
      "Cell \u001b[1;32mIn[6], line 4\u001b[0m\n\u001b[0;32m      2\u001b[0m     \u001b[38;5;28mprint\u001b[39m(a\u001b[38;5;241m+\u001b[39mb)\n\u001b[0;32m      3\u001b[0m add(\u001b[38;5;241m10\u001b[39m,\u001b[38;5;241m30\u001b[39m)\n\u001b[1;32m----> 4\u001b[0m add(\u001b[38;5;241m10\u001b[39m)\n",
      "\u001b[1;31mTypeError\u001b[0m: add() missing 1 required positional argument: 'b'"
     ]
    }
   ],
   "source": [
    "def add(a,b):\n",
    "    print(a+b)\n",
    "add(10,30)\n",
    "add(10)"
   ]
  },
  {
   "cell_type": "code",
   "execution_count": 17,
   "id": "6bed16b0-2da4-40f2-8d17-8cd2deb81e4e",
   "metadata": {},
   "outputs": [
    {
     "name": "stdout",
     "output_type": "stream",
     "text": [
      "even natural number\n",
      "2\n",
      "4\n",
      "6\n",
      "8\n",
      "10\n",
      "12\n",
      "14\n",
      "16\n",
      "18\n",
      "20\n",
      "22\n",
      "24\n",
      "26\n",
      "28\n",
      "30\n"
     ]
    }
   ],
   "source": [
    "def even():\n",
    "    for i in range (1,16):\n",
    "     print(i*2)\n",
    "print(\"even natural number\")\n",
    "even()"
   ]
  },
  {
   "cell_type": "code",
   "execution_count": 20,
   "id": "23e31099-310f-4395-8fc0-2be6811d49c2",
   "metadata": {},
   "outputs": [
    {
     "name": "stdout",
     "output_type": "stream",
     "text": [
      "aayush is 21 years old\n"
     ]
    }
   ],
   "source": [
    "#keyword arguments\n",
    "def student(name, age):\n",
    "    print(name, \"is\", age, \"years old\")\n",
    "student(age=21, name=\"aayush\")"
   ]
  },
  {
   "cell_type": "code",
   "execution_count": 21,
   "id": "ed7501cb-a6ad-4fb4-be1b-65c01a3782dd",
   "metadata": {},
   "outputs": [],
   "source": [
    "#variable length argumentd multi positional"
   ]
  },
  {
   "cell_type": "code",
   "execution_count": 30,
   "id": "c373054f-0c19-415a-9fd8-ff7c5d5f9254",
   "metadata": {},
   "outputs": [
    {
     "name": "stdout",
     "output_type": "stream",
     "text": [
      "all marks: (40, 50, 60, 70)\n",
      "total: 220\n"
     ]
    }
   ],
   "source": [
    "def total_marks(*marks):\n",
    "    print(\"all marks:\", marks)\n",
    "    print(\"total:\", sum(marks))\n",
    "total_marks(40,50,60,70)"
   ]
  },
  {
   "cell_type": "code",
   "execution_count": 26,
   "id": "4438f826-363d-4ba1-830c-ec5f175c9426",
   "metadata": {},
   "outputs": [],
   "source": [
    "#default arguments"
   ]
  },
  {
   "cell_type": "code",
   "execution_count": 31,
   "id": "63c3ac69-fdc1-4415-9696-d95b98d74510",
   "metadata": {},
   "outputs": [
    {
     "name": "stdout",
     "output_type": "stream",
     "text": [
      "6.25\n"
     ]
    }
   ],
   "source": [
    "def square(n):\n",
    "    return n * n\n",
    "    print(square(5))\n",
    "print(square(2.5))"
   ]
  },
  {
   "cell_type": "code",
   "execution_count": 32,
   "id": "233d30a2-707a-4b2e-a777-cfd64a3d431e",
   "metadata": {},
   "outputs": [
    {
     "name": "stdin",
     "output_type": "stream",
     "text": [
      "First number:  3\n",
      "Second number:  4\n"
     ]
    },
    {
     "name": "stdout",
     "output_type": "stream",
     "text": [
      "Sum is: 7.0\n"
     ]
    }
   ],
   "source": [
    "def add(a, b):\n",
    "    return a + b\n",
    "\n",
    "x = float(input(\"First number: \"))\n",
    "y = float(input(\"Second number: \"))\n",
    "print(\"Sum is:\", add(x, y))\n"
   ]
  },
  {
   "cell_type": "code",
   "execution_count": 36,
   "id": "9a0308b7-7e63-4db8-aa14-6962bae96005",
   "metadata": {},
   "outputs": [],
   "source": [
    "def is_even(n):\n",
    "    return n % 2 == 0"
   ]
  },
  {
   "cell_type": "code",
   "execution_count": 37,
   "id": "e2794efd-b751-4549-b003-871d5f549207",
   "metadata": {},
   "outputs": [],
   "source": [
    "def is_palindrome(s):\n",
    "    i, j = 0, len(s) - 1\n",
    "    while i < j:\n",
    "        if s[i] != s[j]:\n",
    "            return False\n",
    "        i += 1\n",
    "        j -= 1\n",
    "    return True"
   ]
  },
  {
   "cell_type": "code",
   "execution_count": 38,
   "id": "341ac463-694a-4f34-93b5-0fa0990da306",
   "metadata": {},
   "outputs": [
    {
     "name": "stdout",
     "output_type": "stream",
     "text": [
      "False\n",
      "True\n"
     ]
    }
   ],
   "source": [
    "def is_palindrome(s):\n",
    "    return s == s[::-1]\n",
    "    print(is_palindrome(\"radar\"))  \n",
    "print(is_palindrome(\"hello\")) \n",
    "print(is_palindrome(\"racecar\"))"
   ]
  },
  {
   "cell_type": "code",
   "execution_count": 39,
   "id": "ca09986a-d155-4d7e-b7d0-7e0eb4070ccc",
   "metadata": {},
   "outputs": [
    {
     "name": "stdout",
     "output_type": "stream",
     "text": [
      "100\n",
      "5\n"
     ]
    }
   ],
   "source": [
    "def add(*args):\n",
    "    return sum(args)\n",
    "    print(add(1, 2, 3))       \n",
    "print(add(10, 20, 30, 40))\n",
    "print(add(5))"
   ]
  },
  {
   "cell_type": "code",
   "execution_count": 42,
   "id": "9ffde93b-b046-4e4c-aa0b-678026bb81fc",
   "metadata": {},
   "outputs": [
    {
     "data": {
      "text/plain": [
       "True"
      ]
     },
     "execution_count": 42,
     "metadata": {},
     "output_type": "execute_result"
    }
   ],
   "source": [
    "def even(n):\n",
    "    if n % 2 == 0:\n",
    "        return True\n",
    "    else:\n",
    "        return False\n",
    "even(4)"
   ]
  },
  {
   "cell_type": "code",
   "execution_count": 44,
   "id": "2f6c0213-a733-49b8-8ac9-f0d812697e5e",
   "metadata": {},
   "outputs": [
    {
     "name": "stdout",
     "output_type": "stream",
     "text": [
      "720\n"
     ]
    }
   ],
   "source": [
    "def factorial(n):\n",
    "    if n == 0 or n == 1:\n",
    "        return 1\n",
    "    else:\n",
    "        return n * factorial(n - 1)\n",
    "        print(factorial(5)) \n",
    "print(factorial(6))"
   ]
  },
  {
   "cell_type": "code",
   "execution_count": 48,
   "id": "a772e97f-5e0b-44c0-8748-e1131f91533e",
   "metadata": {},
   "outputs": [
    {
     "name": "stdout",
     "output_type": "stream",
     "text": [
      "76\n"
     ]
    }
   ],
   "source": [
    "def find_largest(numbers):\n",
    "    return max(numbers)\n",
    "numbers = [10, 24, 76, 23, 12]\n",
    "print(find_largest(numbers))"
   ]
  },
  {
   "cell_type": "code",
   "execution_count": 50,
   "id": "621fe3c3-ace9-4422-85de-a7e6ec9aaa8b",
   "metadata": {},
   "outputs": [
    {
     "name": "stdout",
     "output_type": "stream",
     "text": [
      "!dlroW ,olleH\n"
     ]
    }
   ],
   "source": [
    "def reverse_string(s):\n",
    "    return s[::-1]\n",
    "original = \"Hello, World!\"\n",
    "reversed_str = reverse_string(original)\n",
    "print(reversed_str)"
   ]
  },
  {
   "cell_type": "code",
   "execution_count": 52,
   "id": "fbe29284-f949-4370-88c4-c943a48f2263",
   "metadata": {},
   "outputs": [
    {
     "name": "stdout",
     "output_type": "stream",
     "text": [
      "[0, 1, 1, 2, 3, 5, 8]\n"
     ]
    }
   ],
   "source": [
    "def fibonacci(n):\n",
    "    fib_series = []\n",
    "    a, b = 0, 1\n",
    "    for _ in range(n):\n",
    "        fib_series.append(a)\n",
    "        a, b = b, a + b\n",
    "    return fib_series\n",
    "n = 7\n",
    "print(fibonacci(n))"
   ]
  },
  {
   "cell_type": "code",
   "execution_count": 54,
   "id": "82a34b90-4dab-4635-a16f-5a2cf750c932",
   "metadata": {},
   "outputs": [
    {
     "name": "stdout",
     "output_type": "stream",
     "text": [
      "3\n"
     ]
    }
   ],
   "source": [
    "def count_vowels(s):\n",
    "    vowels = 'aeiouAEIOU'\n",
    "    return sum(1 for char in s if char in vowels)\n",
    "input_string = \"Hello, World!\"\n",
    "print(count_vowels(input_string))"
   ]
  },
  {
   "cell_type": "code",
   "execution_count": 1,
   "id": "438ad127-7535-4c16-9b8e-a874db72182a",
   "metadata": {},
   "outputs": [
    {
     "name": "stdin",
     "output_type": "stream",
     "text": [
      "Enter number 1:  6\n",
      "Enter number 2:  4\n",
      "Enter number 3:  8\n",
      "Enter number 4:  2\n",
      "Enter number 5:  10\n"
     ]
    },
    {
     "name": "stdout",
     "output_type": "stream",
     "text": [
      "The final list is: [6, 4, 8, 2, 10]\n"
     ]
    }
   ],
   "source": [
    "numbers = []\n",
    "for i in range(5):\n",
    "    num = int(input(f\"Enter number {i + 1}: \"))\n",
    "    numbers.append(num)\n",
    "print(\"The final list is:\", numbers)"
   ]
  },
  {
   "cell_type": "code",
   "execution_count": 2,
   "id": "a505c157-3fc9-4d61-99a5-fcd39a7681bf",
   "metadata": {},
   "outputs": [
    {
     "name": "stdout",
     "output_type": "stream",
     "text": [
      "[1, 2, 3, 4, 5, 6]\n"
     ]
    }
   ],
   "source": [
    "list1 = [1, 2, 3]\n",
    "list2 = [4, 5, 6]\n",
    "list1.extend(list2)\n",
    "print(list1)"
   ]
  },
  {
   "cell_type": "code",
   "execution_count": 3,
   "id": "684ea1ab-c1d1-4693-9c04-a607d5c13ced",
   "metadata": {},
   "outputs": [
    {
     "name": "stdout",
     "output_type": "stream",
     "text": [
      "[10, 20, 25, 30, 40]\n"
     ]
    }
   ],
   "source": [
    "l = [10, 20, 30, 40]\n",
    "l.insert(2, 25)\n",
    "print(l)"
   ]
  },
  {
   "cell_type": "code",
   "execution_count": 4,
   "id": "4e48a7fc-f554-46a0-993f-7431355888de",
   "metadata": {},
   "outputs": [
    {
     "name": "stdout",
     "output_type": "stream",
     "text": [
      "[10, 30, 20, 40]\n"
     ]
    }
   ],
   "source": [
    "l = [10, 20, 30, 20, 40]\n",
    "l.remove(20)\n",
    "print(l)"
   ]
  },
  {
   "cell_type": "code",
   "execution_count": 5,
   "id": "22bc4b67-2db9-4ee9-8414-47176f88b2fb",
   "metadata": {},
   "outputs": [
    {
     "name": "stdout",
     "output_type": "stream",
     "text": [
      "Popped item: 5\n",
      "Updated list: [1, 2, 3, 4]\n"
     ]
    }
   ],
   "source": [
    "lst = [1, 2, 3, 4, 5]\n",
    "popped_item = lst.pop()\n",
    "print(\"Popped item:\", popped_item)\n",
    "print(\"Updated list:\", lst)"
   ]
  },
  {
   "cell_type": "code",
   "execution_count": 6,
   "id": "5a028d89-8157-4217-b346-700968a1f8d8",
   "metadata": {},
   "outputs": [
    {
     "name": "stdout",
     "output_type": "stream",
     "text": [
      "Index of 15: 2\n"
     ]
    }
   ],
   "source": [
    "lst = [5, 10, 15, 20, 25]\n",
    "index_15 = lst.index(15)\n",
    "print(\"Index of 15:\", index_15)"
   ]
  },
  {
   "cell_type": "code",
   "execution_count": 7,
   "id": "c2de97d3-6678-44b9-9592-47745949d895",
   "metadata": {},
   "outputs": [
    {
     "name": "stdout",
     "output_type": "stream",
     "text": [
      "Number 2 appears 4 times.\n"
     ]
    }
   ],
   "source": [
    "lst = [1, 2, 2, 3, 2, 4, 2]\n",
    "count_2 = lst.count(2)\n",
    "print(\"Number 2 appears\", count_2, \"times.\")"
   ]
  },
  {
   "cell_type": "code",
   "execution_count": 8,
   "id": "0361c59e-bd1c-48d7-a90c-faeebe4e7e87",
   "metadata": {},
   "outputs": [
    {
     "name": "stdout",
     "output_type": "stream",
     "text": [
      "Ascending order: [3, 5, 7, 10]\n",
      "Descending order: [10, 7, 5, 3]\n"
     ]
    }
   ],
   "source": [
    "lst = [10, 5, 7, 3]\n",
    "lst.sort()\n",
    "print(\"Ascending order:\", lst)\n",
    "lst.sort(reverse=True)\n",
    "print(\"Descending order:\", lst)"
   ]
  },
  {
   "cell_type": "code",
   "execution_count": 9,
   "id": "8e1c0cb8-eb6f-487e-a240-85d516422300",
   "metadata": {},
   "outputs": [
    {
     "name": "stdout",
     "output_type": "stream",
     "text": [
      "[5, 4, 3, 2, 1]\n"
     ]
    }
   ],
   "source": [
    "lst = [1, 2, 3, 4, 5]\n",
    "lst.reverse()\n",
    "print(lst)"
   ]
  },
  {
   "cell_type": "code",
   "execution_count": null,
   "id": "bfc1296c-a1cd-4eec-9954-3a218c1a686e",
   "metadata": {},
   "outputs": [],
   "source": []
  }
 ],
 "metadata": {
  "kernelspec": {
   "display_name": "Python [conda env:base] *",
   "language": "python",
   "name": "conda-base-py"
  },
  "language_info": {
   "codemirror_mode": {
    "name": "ipython",
    "version": 3
   },
   "file_extension": ".py",
   "mimetype": "text/x-python",
   "name": "python",
   "nbconvert_exporter": "python",
   "pygments_lexer": "ipython3",
   "version": "3.13.5"
  }
 },
 "nbformat": 4,
 "nbformat_minor": 5
}
