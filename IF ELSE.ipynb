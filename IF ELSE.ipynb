{
 "cells": [
  {
   "cell_type": "code",
   "execution_count": 8,
   "id": "826a9a3a-7159-4909-b7de-3c4babdcab7c",
   "metadata": {},
   "outputs": [
    {
     "name": "stdout",
     "output_type": "stream",
     "text": [
      "B\n"
     ]
    }
   ],
   "source": [
    "if 10 < 2:\n",
    "    print('A')\n",
    "else:\n",
    "    print('B')"
   ]
  },
  {
   "cell_type": "code",
   "execution_count": 9,
   "id": "db396038-aec8-47a2-acd5-4a90469da701",
   "metadata": {},
   "outputs": [
    {
     "name": "stdin",
     "output_type": "stream",
     "text": [
      "enter number 30\n"
     ]
    },
    {
     "name": "stdout",
     "output_type": "stream",
     "text": [
      "positive\n"
     ]
    }
   ],
   "source": [
    "a=int(input(\"enter number\"))\n",
    "if a>=0:\n",
    "    print(\"positive\")\n",
    "else:\n",
    "    print(\"negative\")"
   ]
  },
  {
   "cell_type": "code",
   "execution_count": 11,
   "id": "d784c84a-d24c-4145-a45d-77547d49a231",
   "metadata": {},
   "outputs": [
    {
     "name": "stdin",
     "output_type": "stream",
     "text": [
      "enter number 3\n"
     ]
    },
    {
     "name": "stdout",
     "output_type": "stream",
     "text": [
      "odd\n"
     ]
    }
   ],
   "source": [
    "a=int(input(\"enter number\"))\n",
    "if a%2==0:\n",
    "    print(\"even\")\n",
    "else:\n",
    "    print(\"odd\")"
   ]
  },
  {
   "cell_type": "code",
   "execution_count": 12,
   "id": "0d1db377-f77d-48e1-9234-eb7e3de71c22",
   "metadata": {},
   "outputs": [
    {
     "name": "stdin",
     "output_type": "stream",
     "text": [
      "enter your marks 60\n"
     ]
    },
    {
     "name": "stdout",
     "output_type": "stream",
     "text": [
      "Pass\n"
     ]
    }
   ],
   "source": [
    "marks=int(input(\"enter your marks\"))\n",
    "if marks>=40:\n",
    "    print(\"Pass\")\n",
    "else:\n",
    "    print(\"Fail\")"
   ]
  },
  {
   "cell_type": "code",
   "execution_count": 13,
   "id": "7663f049-4b5a-4667-8044-1d48d22fe37b",
   "metadata": {},
   "outputs": [
    {
     "name": "stdin",
     "output_type": "stream",
     "text": [
      "enter a string purvansh\n"
     ]
    },
    {
     "name": "stdout",
     "output_type": "stream",
     "text": [
      "The string is longer than 5 characters.\n"
     ]
    }
   ],
   "source": [
    "a=str(input(\"enter a string\"))\n",
    "if len(a)>5:\n",
    "    print(\"The string is longer than 5 characters.\")\n",
    "else:\n",
    "    print(\"The string is 5 characters or shorter.\")"
   ]
  },
  {
   "cell_type": "code",
   "execution_count": 17,
   "id": "dfffc725-2b50-42b9-968f-ca08ced72a2a",
   "metadata": {},
   "outputs": [
    {
     "name": "stdin",
     "output_type": "stream",
     "text": [
      "enter the mode of transport water\n",
      "enter the vehicle name ship\n"
     ]
    },
    {
     "name": "stdout",
     "output_type": "stream",
     "text": [
      "you are in a ship so please carry vomit bag\n"
     ]
    }
   ],
   "source": [
    "mode=input(\"enter the mode of transport\")\n",
    "vehicle=input(\"enter the vehicle name\")\n",
    "if mode ==\"air\":\n",
    "    if vehicle==\"aeroplane\":\n",
    "        print(\"you are in aeroplane please fasten your seat belt\")\n",
    "    elif vehicle==\"hot air balloon\":\n",
    "        print(\"you are in hot air balloon please stay put \")\n",
    "    else:\n",
    "        print(\"you are dead\")\n",
    "elif mode==\"water\":\n",
    "    if vehicle==\"ship\":\n",
    "        print(\"you are in a ship so please carry vomit bag\")\n",
    "    elif vehicle==\"boat\" :\n",
    "        print(\"you are on a boat dont jump so that you cant drown\")\n",
    "    else:\n",
    "        print(\"you are drowning\")\n",
    "elif mode==\"land\":\n",
    "    if vehicle==\"car\":\n",
    "        print(\"you are in a car so fasten your seatbelt\")\n",
    "    elif vehicle==\"bus\":\n",
    "        print(\"lets go you got company and talk to ticket collector\")\n",
    "    elif vehicle==\"Train\":\n",
    "        print(\"you are on a train travel with ticket and be aware of tc\")\n",
    "    else:\n",
    "        print(\"dont worry take lift\")\n",
    "else:\n",
    "    print(\"how are you going mannnnnn\")"
   ]
  },
  {
   "cell_type": "code",
   "execution_count": 18,
   "id": "add11885-ad00-452e-bee3-e6c030731760",
   "metadata": {},
   "outputs": [
    {
     "name": "stdout",
     "output_type": "stream",
     "text": [
      "A\n"
     ]
    }
   ],
   "source": [
    "x = 10\n",
    "if x > 5:\n",
    "    print('A')\n",
    "elif x > 3:\n",
    "    print('B')\n",
    "else:\n",
    "    print('C')"
   ]
  },
  {
   "cell_type": "code",
   "execution_count": 19,
   "id": "9f5334e2-2613-414c-8d18-8a048aae55cf",
   "metadata": {},
   "outputs": [
    {
     "name": "stdout",
     "output_type": "stream",
     "text": [
      "No\n"
     ]
    }
   ],
   "source": [
    "x = 4\n",
    "y = 2\n",
    "if x > 2:\n",
    "    if y > 3:\n",
    "        print('Yes')\n",
    "    else:\n",
    "        print('No')"
   ]
  },
  {
   "cell_type": "code",
   "execution_count": 20,
   "id": "03a0c7a4-896e-42b4-80a5-d95594557d79",
   "metadata": {},
   "outputs": [
    {
     "name": "stdout",
     "output_type": "stream",
     "text": [
      "High\n"
     ]
    }
   ],
   "source": [
    "x = 7\n",
    "if x > 5:\n",
    "    print('High')\n",
    "else:\n",
    "    print('Low')"
   ]
  },
  {
   "cell_type": "code",
   "execution_count": 21,
   "id": "d73eca33-fe67-48e7-bd8e-16c49b3fc4ec",
   "metadata": {},
   "outputs": [
    {
     "name": "stdout",
     "output_type": "stream",
     "text": [
      "Three\n"
     ]
    }
   ],
   "source": [
    "x = 3\n",
    "if x == 5:\n",
    "    print('Five')\n",
    "elif x == 3:\n",
    "    print('Three')\n",
    "else:\n",
    "    print('Other')"
   ]
  },
  {
   "cell_type": "code",
   "execution_count": 22,
   "id": "039bc9a1-88a2-4794-b8dd-4669cb80579d",
   "metadata": {},
   "outputs": [
    {
     "name": "stdout",
     "output_type": "stream",
     "text": [
      "Pass\n"
     ]
    }
   ],
   "source": [
    "marks = 45\n",
    "if marks >= 40:\n",
    "    print('Pass')\n",
    "else:\n",
    "    print('Fail')"
   ]
  },
  {
   "cell_type": "code",
   "execution_count": 23,
   "id": "1c26a799-de5f-4211-a192-8716bc92bcfa",
   "metadata": {},
   "outputs": [
    {
     "name": "stdin",
     "output_type": "stream",
     "text": [
      "enter a number -6\n"
     ]
    },
    {
     "name": "stdout",
     "output_type": "stream",
     "text": [
      "The number is negative.\n"
     ]
    }
   ],
   "source": [
    "num=int(input(\"enter a number\"))\n",
    "if num>0:\n",
    "    print(\"The number is positive.\")\n",
    "elif num<0:\n",
    "    print(\"The number is negative.\")\n",
    "else:\n",
    "    print(\"The number is zero.\")"
   ]
  },
  {
   "cell_type": "code",
   "execution_count": 37,
   "id": "10e24e29-c2ae-4885-9252-2291ca42c755",
   "metadata": {},
   "outputs": [
    {
     "name": "stdin",
     "output_type": "stream",
     "text": [
      "enter first number 46\n",
      "enter second number 34\n",
      "enter third number 82\n"
     ]
    },
    {
     "name": "stdout",
     "output_type": "stream",
     "text": [
      "Greatest number is: 82.0\n"
     ]
    }
   ],
   "source": [
    "a=float(input(\"enter first number\"))\n",
    "b=float(input(\"enter second number\"))\n",
    "c=float(input(\"enter third number\"))\n",
    "if a>b:\n",
    "    if a>c:\n",
    "        print(\"Greatest number is:\",a)\n",
    "    else:\n",
    "        print(\"Greatest number is:\",c)\n",
    "else:\n",
    "    if b>c:\n",
    "        print(\"Greatest number is:\",b)\n",
    "    else:\n",
    "        print(\"Greatest number is:\",c)"
   ]
  },
  {
   "cell_type": "code",
   "execution_count": 38,
   "id": "7bb1b669-0d47-441b-a325-a78e20124b69",
   "metadata": {},
   "outputs": [
    {
     "name": "stdin",
     "output_type": "stream",
     "text": [
      "enter your marks: 46\n"
     ]
    },
    {
     "name": "stdout",
     "output_type": "stream",
     "text": [
      "Grade:Fail\n"
     ]
    }
   ],
   "source": [
    "marks=float(input(\"enter your marks:\"))\n",
    "if marks>90:\n",
    "    print(\"Grade:A\")\n",
    "elif marks>75:\n",
    "    print(\"Grade:B\")\n",
    "elif marks>60:\n",
    "    print(\"Grade:C\")\n",
    "else:\n",
    "    print(\"Grade:Fail\")"
   ]
  },
  {
   "cell_type": "code",
   "execution_count": null,
   "id": "6e226b66-8c3f-46cc-acc0-c21a328dd8b5",
   "metadata": {},
   "outputs": [],
   "source": [
    "num=int(input(\"enter a number:\"))\n",
    "if num%2==0:\n",
    "    print(\"the number is even.\")\n",
    "    if num>10:\n",
    "        print(\"it is also greater than 10.\")\n",
    "    else:\n",
    "        print(\"but it is not greater than 10.\")\n",
    "    else:\n",
    "    print(\"the number is odd.\")"
   ]
  },
  {
   "cell_type": "code",
   "execution_count": 39,
   "id": "d5b51388-b06c-4ede-b456-1a8d2c64f9c8",
   "metadata": {},
   "outputs": [
    {
     "name": "stdin",
     "output_type": "stream",
     "text": [
      "enter your age: 19\n"
     ]
    },
    {
     "name": "stdout",
     "output_type": "stream",
     "text": [
      "adult\n"
     ]
    }
   ],
   "source": [
    "age=int(input(\"enter your age:\"))\n",
    "if age<13:\n",
    "    print(\"child\")\n",
    "elif age<18:\n",
    "    print(\"teen\")\n",
    "else:\n",
    "    print(\"adult\")"
   ]
  },
  {
   "cell_type": "code",
   "execution_count": null,
   "id": "208ac9c2-d264-4f14-9d74-918539f15453",
   "metadata": {},
   "outputs": [],
   "source": []
  }
 ],
 "metadata": {
  "kernelspec": {
   "display_name": "Python [conda env:base] *",
   "language": "python",
   "name": "conda-base-py"
  },
  "language_info": {
   "codemirror_mode": {
    "name": "ipython",
    "version": 3
   },
   "file_extension": ".py",
   "mimetype": "text/x-python",
   "name": "python",
   "nbconvert_exporter": "python",
   "pygments_lexer": "ipython3",
   "version": "3.13.5"
  }
 },
 "nbformat": 4,
 "nbformat_minor": 5
}
