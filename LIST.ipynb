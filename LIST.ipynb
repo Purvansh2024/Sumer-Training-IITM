{
 "cells": [
  {
   "cell_type": "code",
   "execution_count": null,
   "id": "a3341e0d-7201-4f53-9582-c9cf50e71486",
   "metadata": {},
   "outputs": [],
   "source": [
    "#LIST"
   ]
  },
  {
   "cell_type": "code",
   "execution_count": 15,
   "id": "f60b249c-0131-4708-833a-14d003e61ec8",
   "metadata": {},
   "outputs": [],
   "source": [
    "#append() a.append(100)-add item to last"
   ]
  },
  {
   "cell_type": "code",
   "execution_count": 1,
   "id": "17389ff6-53ad-4b34-9b22-238bd0180bf4",
   "metadata": {},
   "outputs": [
    {
     "name": "stdout",
     "output_type": "stream",
     "text": [
      "[1, 1, 4, 8, 7, 10]\n"
     ]
    }
   ],
   "source": [
    "lst=[1,1,4,8,7]\n",
    "lst.append(10)  \n",
    "print(lst)"
   ]
  },
  {
   "cell_type": "code",
   "execution_count": null,
   "id": "eb09c15a-ef37-4f3c-b223-c95652cf2493",
   "metadata": {},
   "outputs": [],
   "source": [
    "#insert() a.inesrt(1,50)-insert at index "
   ]
  },
  {
   "cell_type": "code",
   "execution_count": 18,
   "id": "2a516bf4-e32f-4fdd-968f-cdb95bd083fe",
   "metadata": {},
   "outputs": [
    {
     "name": "stdout",
     "output_type": "stream",
     "text": [
      "['apple', 'orange']\n"
     ]
    }
   ],
   "source": [
    "fruits = [\"apple\"]  \n",
    "fruits.insert(1, \"orange\")\n",
    "print(fruits)"
   ]
  },
  {
   "cell_type": "code",
   "execution_count": null,
   "id": "7ebd9051-7174-4e47-9377-962e4b781201",
   "metadata": {},
   "outputs": [],
   "source": [
    "#extend() a.extend(1,2)-add multiple items"
   ]
  },
  {
   "cell_type": "code",
   "execution_count": 4,
   "id": "803ce7dd-0d3b-4a4a-943e-c3057aa2ac5c",
   "metadata": {},
   "outputs": [
    {
     "name": "stdout",
     "output_type": "stream",
     "text": [
      "[1, 2, 3, 4, 5]\n"
     ]
    }
   ],
   "source": [
    "nums = [1, 2, 3]\n",
    "nums.extend((4, 5))\n",
    "print(nums)"
   ]
  },
  {
   "cell_type": "code",
   "execution_count": null,
   "id": "af584536-f723-44e5-b070-e2061e73ca9b",
   "metadata": {},
   "outputs": [],
   "source": [
    "#pop() a.pop()-remove last item"
   ]
  },
  {
   "cell_type": "code",
   "execution_count": 5,
   "id": "2ee7668c-6613-4ccb-9211-bf2631e6f655",
   "metadata": {},
   "outputs": [
    {
     "name": "stdout",
     "output_type": "stream",
     "text": [
      "['apple', 'orange']\n"
     ]
    }
   ],
   "source": [
    "fruits=[\"apple\",\"orange\",\"banana\"]\n",
    "fruits.pop()\n",
    "print(fruits)"
   ]
  },
  {
   "cell_type": "code",
   "execution_count": 6,
   "id": "53fdd05a-124d-4917-8306-b0980956f637",
   "metadata": {},
   "outputs": [],
   "source": [
    "#remove() a.remove(30)-remove first match"
   ]
  },
  {
   "cell_type": "code",
   "execution_count": 8,
   "id": "e466ffa6-99bd-4885-bb5d-47844796a92d",
   "metadata": {},
   "outputs": [
    {
     "name": "stdout",
     "output_type": "stream",
     "text": [
      "['apple', 'cherry', 'banana']\n"
     ]
    }
   ],
   "source": [
    "fruits = ['apple', 'banana', 'cherry', 'banana']\n",
    "fruits.remove('banana')\n",
    "print(fruits)"
   ]
  },
  {
   "cell_type": "code",
   "execution_count": null,
   "id": "1e32599f-32ea-4aa9-9b01-e8c390d0791e",
   "metadata": {},
   "outputs": [],
   "source": [
    "#clear() a.clear()-remove all items"
   ]
  },
  {
   "cell_type": "code",
   "execution_count": 9,
   "id": "aafbd52b-0df4-45fe-b5bd-e59d7ad92d13",
   "metadata": {},
   "outputs": [
    {
     "name": "stdout",
     "output_type": "stream",
     "text": [
      "[]\n"
     ]
    }
   ],
   "source": [
    "fruits = ['apple', 'banana', 'cherry']\n",
    "fruits.clear()\n",
    "print(fruits) "
   ]
  },
  {
   "cell_type": "code",
   "execution_count": null,
   "id": "77e25f4f-bc42-47f5-a268-4746e2a5c509",
   "metadata": {},
   "outputs": [],
   "source": [
    "#index() a.index(50)-get index of value"
   ]
  },
  {
   "cell_type": "code",
   "execution_count": 16,
   "id": "18f75f66-d7cc-42d8-93dd-0131e6c5785d",
   "metadata": {},
   "outputs": [
    {
     "name": "stdout",
     "output_type": "stream",
     "text": [
      "1\n"
     ]
    }
   ],
   "source": [
    "fruits = ['apple', 'banana', 'cherry', 'banana']\n",
    "idx = fruits.index('banana')\n",
    "print(idx) "
   ]
  },
  {
   "cell_type": "code",
   "execution_count": 12,
   "id": "911e64e3-0e17-434c-bc0a-8e64c4bb2f20",
   "metadata": {},
   "outputs": [],
   "source": [
    "#count() a.count(10)-count occurrences"
   ]
  },
  {
   "cell_type": "code",
   "execution_count": 17,
   "id": "885467a4-f9a6-44fb-9ae0-35f062093bea",
   "metadata": {},
   "outputs": [
    {
     "name": "stdout",
     "output_type": "stream",
     "text": [
      "The number 2 appears 3 times\n"
     ]
    }
   ],
   "source": [
    "numbers=[1, 2, 3, 2, 4, 2, 5]\n",
    "count_2=numbers.count(2)\n",
    "print(\"The number 2 appears\", count_2, \"times\")"
   ]
  },
  {
   "cell_type": "code",
   "execution_count": 13,
   "id": "0a83b610-dd9c-408e-8abd-3560766859c9",
   "metadata": {},
   "outputs": [],
   "source": [
    "#sort() a.sort()-sort ascending"
   ]
  },
  {
   "cell_type": "code",
   "execution_count": 20,
   "id": "a1a3f5a1-3929-4723-9d18-fdc2ba567f6a",
   "metadata": {},
   "outputs": [
    {
     "name": "stdout",
     "output_type": "stream",
     "text": [
      "[1, 2, 5, 5, 6, 9]\n"
     ]
    }
   ],
   "source": [
    "numbers = [5, 2, 9, 1, 5, 6]\n",
    "numbers.sort()\n",
    "print(numbers)"
   ]
  },
  {
   "cell_type": "code",
   "execution_count": 14,
   "id": "e0630809-5538-4417-88d2-3e97d86830a2",
   "metadata": {},
   "outputs": [],
   "source": [
    "#reverse() a.reverse()-reverse list"
   ]
  },
  {
   "cell_type": "code",
   "execution_count": 21,
   "id": "d2e01dcc-bd5c-4067-bdd2-620cb3adf9d0",
   "metadata": {},
   "outputs": [
    {
     "name": "stdout",
     "output_type": "stream",
     "text": [
      "['cherry', 'banana', 'apple']\n"
     ]
    }
   ],
   "source": [
    "fruits = ['apple', 'banana', 'cherry']\n",
    "fruits.reverse()\n",
    "print(fruits) "
   ]
  },
  {
   "cell_type": "code",
   "execution_count": 22,
   "id": "143ac3bd-6218-441f-b006-8fc04736fc5b",
   "metadata": {},
   "outputs": [],
   "source": [
    "#copy() a.copy()-copy list"
   ]
  },
  {
   "cell_type": "code",
   "execution_count": 23,
   "id": "29e1a479-ccd8-4be2-b52b-92ad00faf18b",
   "metadata": {},
   "outputs": [
    {
     "name": "stdout",
     "output_type": "stream",
     "text": [
      "[10, 26, 16, 47]\n"
     ]
    }
   ],
   "source": [
    "a=[10,26,16,47]\n",
    "b=[]\n",
    "b=a.copy()\n",
    "print(b)"
   ]
  },
  {
   "cell_type": "code",
   "execution_count": 24,
   "id": "6297b855-f615-4440-adf1-b4f795d607c2",
   "metadata": {},
   "outputs": [],
   "source": [
    "#slicing "
   ]
  },
  {
   "cell_type": "code",
   "execution_count": 29,
   "id": "ba148756-7d6f-423f-813e-8d4177328164",
   "metadata": {},
   "outputs": [
    {
     "name": "stdout",
     "output_type": "stream",
     "text": [
      "[0, 1, 2, 3]\n",
      "[4, 5, 6, 7, 8, 9]\n"
     ]
    }
   ],
   "source": [
    "num = [0,1,2,3,4,5,6,7,8,9] \n",
    "print(num[0:4]) \n",
    "print(num[4:10])"
   ]
  },
  {
   "cell_type": "code",
   "execution_count": null,
   "id": "7bcad26a-7fc2-4c7a-ba42-214d376d8760",
   "metadata": {},
   "outputs": [],
   "source": []
  }
 ],
 "metadata": {
  "kernelspec": {
   "display_name": "Python [conda env:base] *",
   "language": "python",
   "name": "conda-base-py"
  },
  "language_info": {
   "codemirror_mode": {
    "name": "ipython",
    "version": 3
   },
   "file_extension": ".py",
   "mimetype": "text/x-python",
   "name": "python",
   "nbconvert_exporter": "python",
   "pygments_lexer": "ipython3",
   "version": "3.13.5"
  }
 },
 "nbformat": 4,
 "nbformat_minor": 5
}
