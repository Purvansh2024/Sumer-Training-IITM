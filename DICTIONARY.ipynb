{
 "cells": [
  {
   "cell_type": "code",
   "execution_count": 18,
   "id": "2c3585d3-6a5d-427a-9a2f-d3a42d948aaa",
   "metadata": {},
   "outputs": [],
   "source": [
    "#dictionary"
   ]
  },
  {
   "cell_type": "code",
   "execution_count": null,
   "id": "6804900f-97d9-4805-986b-d82b833581db",
   "metadata": {},
   "outputs": [],
   "source": [
    "                                            Example\n",
    "get() returns the value of key              dict.get(\"key\")\n",
    "keys() returns all keys                     dict.key()   \n",
    "values() returns all values                 dict.values()\n",
    "items() returns key-value pairs             dict.items()\n",
    "update() add items from another dict        dict.update(other_dict)\n",
    "copy() returns shallow copy                 dict.copy()\n",
    "pop() removes a key                         dict.pop(\"key\")\n",
    "popitem() removes last key-value            dict.popitem()\n",
    "clear()  Empties dictonary                  dict.clear()"
   ]
  }
 ],
 "metadata": {
  "kernelspec": {
   "display_name": "Python [conda env:base] *",
   "language": "python",
   "name": "conda-base-py"
  },
  "language_info": {
   "codemirror_mode": {
    "name": "ipython",
    "version": 3
   },
   "file_extension": ".py",
   "mimetype": "text/x-python",
   "name": "python",
   "nbconvert_exporter": "python",
   "pygments_lexer": "ipython3",
   "version": "3.13.5"
  }
 },
 "nbformat": 4,
 "nbformat_minor": 5
}
